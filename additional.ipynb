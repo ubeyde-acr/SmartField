{
 "cells": [
  {
   "cell_type": "code",
   "execution_count": null,
   "metadata": {},
   "outputs": [],
   "source": [
    "import os\n",
    "import shutil\n",
    "import random\n",
    "\n",
    "def create_test_folder(train_dir, test_dir, percentage=10):\n",
    "    os.makedirs(test_dir, exist_ok=True)\n",
    "    \n",
    "    for root, dirs, files in os.walk(train_dir):\n",
    "        relative_path = os.path.relpath(root, train_dir)\n",
    "        test_subdir = os.path.join(test_dir, relative_path)\n",
    "        os.makedirs(test_subdir, exist_ok=True)\n",
    "        \n",
    "        # Filter image files only \n",
    "        image_files = [file for file in files if file.lower().endswith(('.png', '.jpg', '.jpeg', '.bmp', '.gif'))]\n",
    "        \n",
    "        # Skip directories with no image files\n",
    "        if not image_files:\n",
    "            continue\n",
    "        \n",
    "        # Calculate the number of images to move to the test folder\n",
    "        num_to_move = max(1, int(len(image_files) * percentage / 100)) if len(image_files) > 1 else 0\n",
    "        \n",
    "        # Randomly select images to move\n",
    "        if num_to_move > 0:\n",
    "            images_to_move = random.sample(image_files, num_to_move)\n",
    "        \n",
    "            # Move the selected images\n",
    "            for image in images_to_move:\n",
    "                src = os.path.join(root, image)\n",
    "                dest = os.path.join(test_subdir, image)\n",
    "                shutil.move(src, dest)\n",
    "                print(f\"Moved {src} to {dest}\")\n",
    "\n",
    "train_dir = \".../train_data\"  \n",
    "test_dir = \".../test_data\"    \n",
    "\n",
    "# Create test folder with the same hierarchy, cutting 10% of images\n",
    "create_test_folder(train_dir, test_dir, percentage=10)"
   ]
  },
  {
   "cell_type": "code",
   "execution_count": null,
   "metadata": {},
   "outputs": [],
   "source": [
    "def count_images_by_category(base_dir):\n",
    "    category_counts = defaultdict(int)\n",
    "    for root, dirs, files in os.walk(base_dir):\n",
    "        # Calculate relative path for the category\n",
    "        relative_path = os.path.relpath(root, base_dir)\n",
    "        if relative_path == \".\":\n",
    "            continue  # Skip the base directory itself\n",
    "        \n",
    "        # Count images in the current category\n",
    "        image_files = [file for file in files if file.lower().endswith(('.png', '.jpg', '.jpeg', '.bmp', '.gif'))]\n",
    "        category_counts[relative_path] += len(image_files)\n",
    "    return category_counts\n",
    "count_images_by_category(train_dir)"
   ]
  },
  {
   "cell_type": "code",
   "execution_count": null,
   "metadata": {},
   "outputs": [],
   "source": [
    "def compare_image_counts(train_dir, test_dir):\n",
    "    train_counts = count_images_by_category(train_dir)\n",
    "    test_counts = count_images_by_category(test_dir)\n",
    "    \n",
    "    # Create a combined set of categories\n",
    "    all_categories = set(train_counts.keys()).union(set(test_counts.keys()))\n",
    "    \n",
    "    # Compare counts and display the results\n",
    "    print(f\"{'Category':<30} {'Train Count':<15} {'Test Count':<15}\")\n",
    "    print(\"=\"*60)\n",
    "    for category in sorted(all_categories):\n",
    "        train_count = train_counts.get(category, 0)\n",
    "        test_count = test_counts.get(category, 0)\n",
    "        print(f\"{category:<30} {train_count:<15} {test_count:<15}\")\n",
    "\n",
    "compare_image_counts(train_dir, test_dir)"
   ]
  },
  {
   "cell_type": "code",
   "execution_count": 10,
   "metadata": {},
   "outputs": [
    {
     "data": {
      "text/plain": [
       "['.DS_Store',\n",
       " 'Grape___Black_rot',\n",
       " 'Grape___Esca_(Black_Measles)',\n",
       " 'Grape___healthy',\n",
       " 'Grape___Leaf_blight_(Isariopsis_Leaf_Spot)']"
      ]
     },
     "execution_count": 10,
     "metadata": {},
     "output_type": "execute_result"
    }
   ],
   "source": [
    "import os\n",
    "#len(os.listdir(r\"U:\\Pytorch\\CNN\\dataa\\corn\\test\\Corn_(maize)___Cercospora_leaf_spot\"))\n",
    "#len(os.listdir(r\"U:\\Pytorch\\CNN\\dataa\\corn\\test\\Corn_(maize)___Common_rust_\"))\n",
    "#len(os.listdir(r\"U:\\Pytorch\\CNN\\dataa\\corn\\test\\Corn_(maize)___healthy\"))\n",
    "os.listdir(\"dataa/grape/train\")"
   ]
  },
  {
   "cell_type": "code",
   "execution_count": 11,
   "metadata": {},
   "outputs": [
    {
     "name": "stdout",
     "output_type": "stream",
     "text": [
      "the veg:tomato\n",
      "pheno: Tomato___bacterial_spot,        size: 2127\n",
      "pheno: Tomato___early_blight,        size: 1000\n",
      "pheno: Tomato___healthy,        size: 1591\n",
      "pheno: Tomato___late_blight,        size: 1909\n",
      "pheno: Tomato___leaf_curl,        size: 5357\n",
      "pheno: Tomato___leaf_mold,        size: 952\n",
      "pheno: Tomato___mosaic_virus,        size: 373\n",
      "pheno: Tomato___septoria_leaf_spot,        size: 1771\n",
      "pheno: Tomato___spider_mites,        size: 1676\n",
      "pheno: Tomato___target_spot,        size: 1404\n",
      " \n",
      " \n"
     ]
    }
   ],
   "source": [
    "def data_len_exhibiter(veg):\n",
    "        print(f\"the veg:{veg}\")\n",
    "        for pheno in os.listdir(f\"data/\" + str(veg)):\n",
    "            size = len(os.listdir(f\"data/\" + str(veg) + \"/\" + str(pheno)))\n",
    "            print(f\"pheno: {pheno},        size: {size}\")\n",
    "        print(\" \")\n",
    "        print(\" \")\n",
    "\n",
    "data_len_exhibiter(\"tomato\")"
   ]
  },
  {
   "cell_type": "code",
   "execution_count": 12,
   "metadata": {},
   "outputs": [
    {
     "name": "stdout",
     "output_type": "stream",
     "text": [
      "the veg:Apple\n",
      "pheno: Apple___alternaria_leaf_spot,        size: 278\n",
      "pheno: Apple___black_rot,        size: 621\n",
      "pheno: Apple___brown_spot,        size: 215\n",
      "pheno: Apple___gray_spot,        size: 395\n",
      "pheno: Apple___healthy,        size: 2570\n",
      "pheno: Apple___rust,        size: 1241\n",
      "pheno: Apple___scab,        size: 1222\n",
      " \n",
      " \n",
      "the veg:Bell pepper\n",
      "pheno: Bell_pepper___bacterial_spot,        size: 997\n",
      "pheno: Bell_pepper___healthy,        size: 1478\n",
      " \n",
      " \n",
      "the veg:Cassava\n",
      "pheno: Cassava___bacterial_blight,        size: 1087\n",
      "pheno: Cassava___brown_streak_disease,        size: 2189\n",
      "pheno: Cassava___green_mottle,        size: 2386\n",
      "pheno: Cassava___healthy,        size: 2577\n",
      "pheno: Cassava___mosaic_disease,        size: 13158\n",
      " \n",
      " \n",
      "the veg:Cherry\n",
      "pheno: Cherry___healthy,        size: 854\n",
      "pheno: Cherry___powdery_mildew,        size: 1052\n",
      " \n",
      " \n",
      "the veg:Coffee\n",
      "pheno: Coffee___healthy,        size: 791\n",
      "pheno: Coffee___red_spider_mite,        size: 167\n",
      "pheno: Coffee___rust,        size: 602\n",
      " \n",
      " \n",
      "the veg:Corn\n",
      "pheno: Corn___common_rust,        size: 1192\n",
      "pheno: Corn___gray_leaf_spot,        size: 513\n",
      "pheno: Corn___healthy,        size: 1162\n",
      "pheno: Corn___northern_leaf_blight,        size: 985\n",
      " \n",
      " \n",
      "the veg:Grape\n",
      "pheno: Grape___black_measles,        size: 2671\n",
      "pheno: Grape___black_rot,        size: 1580\n",
      "pheno: Grape___healthy,        size: 1705\n",
      "pheno: Grape___Leaf_blight,        size: 1476\n",
      " \n",
      " \n",
      "the veg:mixed\n",
      "pheno: Blueberry___healthy,        size: 1502\n",
      "pheno: Orange___citrus_greening,        size: 5507\n",
      "pheno: Raspberry___healthy,        size: 371\n",
      "pheno: Soybean___healthy,        size: 5090\n",
      "pheno: Squash___powdery_mildew,        size: 1835\n",
      " \n",
      " \n",
      "the veg:Peach\n",
      "pheno: Peach___bacterial_spot,        size: 2297\n",
      "pheno: Peach___healthy,        size: 360\n",
      " \n",
      " \n",
      "the veg:Potato\n",
      "pheno: Potato___bacterial_wilt,        size: 569\n",
      "pheno: Potato___early_blight,        size: 2628\n",
      "pheno: Potato___healthy,        size: 2275\n",
      "pheno: Potato___late_blight,        size: 2087\n",
      "pheno: Potato___leafroll_virus,        size: 527\n",
      "pheno: Potato___mosaic_virus,        size: 666\n",
      "pheno: Potato___nematode,        size: 68\n",
      "pheno: Potato___pests,        size: 611\n",
      "pheno: Potato___phytophthora,        size: 347\n",
      "pheno: Potato___spindle_tuber_viroid,        size: 85\n",
      " \n",
      " \n",
      "the veg:Rice\n",
      "pheno: Rice___bacterial_blight,        size: 1584\n",
      "pheno: Rice___blast,        size: 1440\n",
      "pheno: Rice___brown_spot,        size: 1600\n",
      "pheno: Rice___tungro,        size: 1308\n",
      " \n",
      " \n",
      "the veg:Rose\n",
      "pheno: Rose___healthy,        size: 4978\n",
      "pheno: Rose___rust,        size: 4953\n",
      "pheno: Rose___slug_sawfly,        size: 4979\n",
      " \n",
      " \n",
      "the veg:Strawberry\n",
      "pheno: Strawberry___healthy,        size: 456\n",
      "pheno: Strawberry___leaf_scorch,        size: 1109\n",
      " \n",
      " \n",
      "the veg:Sugarcane\n",
      "pheno: Sugercane___healthy,        size: 522\n",
      "pheno: Sugercane___mosaic,        size: 462\n",
      "pheno: Sugercane___red_rot,        size: 518\n",
      "pheno: Sugercane___rust,        size: 514\n",
      "pheno: Sugercane___yellow_leaf,        size: 505\n",
      " \n",
      " \n",
      "the veg:Tomato\n",
      "pheno: Tomato___bacterial_spot,        size: 2127\n",
      "pheno: Tomato___early_blight,        size: 1000\n",
      "pheno: Tomato___healthy,        size: 1591\n",
      "pheno: Tomato___late_blight,        size: 1909\n",
      "pheno: Tomato___leaf_curl,        size: 5357\n",
      "pheno: Tomato___leaf_mold,        size: 952\n",
      "pheno: Tomato___mosaic_virus,        size: 373\n",
      "pheno: Tomato___septoria_leaf_spot,        size: 1771\n",
      "pheno: Tomato___spider_mites,        size: 1676\n",
      "pheno: Tomato___target_spot,        size: 1404\n",
      " \n",
      " \n",
      "the veg:Watermelon\n",
      "pheno: Watermelon___anthracnose,        size: 155\n",
      "pheno: Watermelon___downy_mildew,        size: 380\n",
      "pheno: Watermelon___healthy,        size: 205\n",
      "pheno: Watermelon___mosaic_virus,        size: 415\n",
      " \n",
      " \n"
     ]
    }
   ],
   "source": [
    "for fruit in os.listdir(\"data\"):\n",
    "    data_len_exhibiter(fruit)"
   ]
  },
  {
   "cell_type": "code",
   "execution_count": 17,
   "metadata": {},
   "outputs": [
    {
     "data": {
      "text/plain": [
       "'data/Apple\\\\train'"
      ]
     },
     "execution_count": 17,
     "metadata": {},
     "output_type": "execute_result"
    }
   ],
   "source": [
    "train = \"train\"\n",
    "test = \"test\"\n",
    "current_folder = \"data/Apple\"\n",
    "\n",
    "path = os.path.join(current_folder,train)\n",
    "\n",
    "os.makedirs(path)\n",
    "\n",
    "path"
   ]
  },
  {
   "cell_type": "code",
   "execution_count": 43,
   "metadata": {},
   "outputs": [],
   "source": [
    "def folder_creator(veg):\n",
    "    curr_folder = f\"data/\" + str(veg) + \"/train\"\n",
    "    new_path = f\"data/\" + str(veg)\n",
    "    os.makedirs(os.path.join(new_path,\"val\"))\n",
    "    for pheno in os.listdir(curr_folder):\n",
    "        os.makedirs(os.path.join(f\"data/\" + str(veg) + \"/val\",pheno))\n",
    "\n",
    "        "
   ]
  },
  {
   "cell_type": "code",
   "execution_count": 44,
   "metadata": {},
   "outputs": [],
   "source": [
    "for fruit in os.listdir(\"data\"):\n",
    "    folder_creator(fruit)"
   ]
  },
  {
   "cell_type": "code",
   "execution_count": null,
   "metadata": {},
   "outputs": [],
   "source": [
    "for target,source in zip(model.named_parameters(),net.named_parameters()):\n",
    "  target[1].data = copy.deepcopy( source[1].data )\n",
    "\n",
    "print( vgg.classifier[-1].weight[0] - model.classifier[-1].weight[0] )"
   ]
  },
  {
   "cell_type": "code",
   "execution_count": null,
   "metadata": {},
   "outputs": [],
   "source": [
    "#from torchsummary import summary\n",
    "#summary(net.to(device),(3,224,224))"
   ]
  }
 ],
 "metadata": {
  "kernelspec": {
   "display_name": "Python 3",
   "language": "python",
   "name": "python3"
  },
  "language_info": {
   "codemirror_mode": {
    "name": "ipython",
    "version": 3
   },
   "file_extension": ".py",
   "mimetype": "text/x-python",
   "name": "python",
   "nbconvert_exporter": "python",
   "pygments_lexer": "ipython3",
   "version": "3.10.11"
  }
 },
 "nbformat": 4,
 "nbformat_minor": 2
}
